{
 "cells": [
  {
   "cell_type": "code",
   "execution_count": 1,
   "id": "9f83c960-8cdc-44bd-a44c-61c005769aaa",
   "metadata": {},
   "outputs": [
    {
     "name": "stdout",
     "output_type": "stream",
     "text": [
      "Hello! How are You!\n"
     ]
    }
   ],
   "source": [
    "print(\"Hello! How are You!\")"
   ]
  },
  {
   "cell_type": "code",
   "execution_count": 2,
   "id": "033d97be-8b94-4da1-a227-36bc194769bc",
   "metadata": {},
   "outputs": [],
   "source": [
    "import numpy as np"
   ]
  },
  {
   "cell_type": "code",
   "execution_count": null,
   "id": "32ca7801-998d-4c78-a5e3-c4578bec7c4e",
   "metadata": {},
   "outputs": [],
   "source": []
  }
 ],
 "metadata": {
  "kernelspec": {
   "display_name": "Python 3 (ipykernel)",
   "language": "python",
   "name": "python3"
  },
  "language_info": {
   "codemirror_mode": {
    "name": "ipython",
    "version": 3
   },
   "file_extension": ".py",
   "mimetype": "text/x-python",
   "name": "python",
   "nbconvert_exporter": "python",
   "pygments_lexer": "ipython3",
   "version": "3.12.4"
  }
 },
 "nbformat": 4,
 "nbformat_minor": 5
}
